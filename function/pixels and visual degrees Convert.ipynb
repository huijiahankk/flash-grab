{
 "cells": [
  {
   "cell_type": "code",
   "execution_count": 11,
   "metadata": {},
   "outputs": [
    {
     "name": "stdout",
     "output_type": "stream",
     "text": [
      "0.030646585760470427 degrees correspond to a single pixel\n",
      "The size of the stimulus is 100 pixels and 3.0646585760470426 visual degrees\n"
     ]
    }
   ],
   "source": [
    "# Convert pixels to visual degrees\n",
    "\n",
    "from math import atan2, degrees\n",
    "h = 25 # Monitor height in cm\n",
    "d = 60 # Distance between monitor and participant in cm\n",
    "r = 768 # Vertical resolution of the monitor\n",
    "size_in_px = 100 # The stimulus size in pixels\n",
    "# Calculate the number of degrees that correspond to a single pixel. This will\n",
    "# generally be a very small value, something like 0.03.\n",
    "deg_per_px = degrees(atan2(.5*h, d)) / (.5*r)\n",
    "print ('%s degrees correspond to a single pixel' % deg_per_px)\n",
    "# Calculate the size of the stimulus in degrees\n",
    "size_in_deg = size_in_px * deg_per_px\n",
    "print('The size of the stimulus is %s pixels and %s visual degrees' \\\n",
    "    % (size_in_px, size_in_deg)) "
   ]
  },
  {
   "cell_type": "code",
   "execution_count": 15,
   "metadata": {},
   "outputs": [
    {
     "name": "stdout",
     "output_type": "stream",
     "text": [
      "0.030646585760470427 degrees correspond to a single pixel\n",
      "The size of the stimulus is 97.8901866409392 pixels and 3.0 visual degrees\n"
     ]
    }
   ],
   "source": [
    "# Convert visual degrees to pixels\n",
    "from math import atan2, degrees\n",
    "h = 25 # Monitor height in cm\n",
    "d = 60 # Distance between monitor and participant in cm\n",
    "r = 768 # Vertical resolution of the monitor\n",
    "size_in_deg = 3. # The stimulus size in pixels\n",
    "# Calculate the number of degrees that correspond to a single pixel. This will\n",
    "# generally be a very small value, something like 0.03.\n",
    "deg_per_px = degrees(atan2(.5*h, d)) / (.5*r)\n",
    "print ('%s degrees correspond to a single pixel' % deg_per_px)\n",
    "# Calculate the size of the stimulus in degrees\n",
    "size_in_px = size_in_deg / deg_per_px\n",
    "print ('The size of the stimulus is %s pixels and %s visual degrees' \\\n",
    "    % (size_in_px, size_in_deg))"
   ]
  },
  {
   "cell_type": "code",
   "execution_count": null,
   "metadata": {},
   "outputs": [],
   "source": []
  }
 ],
 "metadata": {
  "kernelspec": {
   "display_name": "Python 3",
   "language": "python",
   "name": "python3"
  },
  "language_info": {
   "codemirror_mode": {
    "name": "ipython",
    "version": 3
   },
   "file_extension": ".py",
   "mimetype": "text/x-python",
   "name": "python",
   "nbconvert_exporter": "python",
   "pygments_lexer": "ipython3",
   "version": "3.6.5"
  }
 },
 "nbformat": 4,
 "nbformat_minor": 2
}
