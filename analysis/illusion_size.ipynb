{
 "cells": [
  {
   "cell_type": "code",
   "execution_count": 3,
   "metadata": {
    "scrolled": true
   },
   "outputs": [
    {
     "name": "stdout",
     "output_type": "stream",
     "text": [
      "[[array([[  5.42387859,  -9.24420816,  -6.40538044,  -8.86182583,\n",
      "        -15.57778086,  -8.3760756 ,   4.22000404,  -6.46717005,\n",
      "         14.02996206,   5.13650617],\n",
      "       [ 13.54958415,  22.23801808, -16.78328481,  -7.92230199,\n",
      "        -13.80993129, -14.6911396 ,   8.14759558,   8.30462444,\n",
      "        -10.12243283,   2.57386337],\n",
      "       [  5.20567367,  14.48580131, -14.53356827,  12.27760187,\n",
      "        -15.92857122, -16.51572161, -16.57380673, -17.07242152,\n",
      "         15.07901444,  15.64876908],\n",
      "       [-14.91225222, -17.70475765,  16.66029276,  19.52170335,\n",
      "        -22.1048624 ,  20.02291563,  19.45874153,  18.58668618,\n",
      "        -24.39613812, -20.72485773],\n",
      "       [ 13.03769483, -24.93891378, -18.59009749,  17.39185642,\n",
      "         21.94304917,  14.00400698,  22.15724863, -22.92949213,\n",
      "        -32.66311685, -26.10256685]])]]\n",
      "[[array([[2, 1, 1, 1, 2, 1, 2, 1, 2, 2],\n",
      "       [2, 2, 1, 1, 1, 1, 2, 2, 1, 2],\n",
      "       [2, 2, 1, 2, 1, 1, 1, 1, 2, 2],\n",
      "       [1, 1, 2, 2, 1, 2, 2, 2, 1, 1],\n",
      "       [2, 1, 1, 2, 2, 2, 2, 1, 1, 1]], dtype=uint8)]]\n"
     ]
    }
   ],
   "source": [
    "\n",
    "import scipy.io as scio   # importing the scipy io module for reading the mat file\n",
    "import numpy as np # importing numpy module for efficiently executing numerical\n",
    "import matplotlib.pyplot as plt # import the pyplot from the matplotlib library\n",
    "# from mpl_toolkits.basemap import Basemap # import the basemap to plot the data\n",
    "from matplotlib import rcParams\n",
    "\n",
    "\n",
    "dataFile = '/Users/jia/Documents/matlab/flash-grab/data/illusionSize/mousePress/Wedge/huijiahan_2021_01_07_17_34.mat'\n",
    "\n",
    "alldata = scio.loadmat(dataFile)\n",
    " # print(type(alldata))\n",
    "data = alldata['data'] \n",
    "# print(data.shape)\n",
    "degree = data['mouseMoveDegreeMat']\n",
    "direction = data['flashTiltDirection']\n",
    " \n",
    "print(degree)\n",
    "print(direction)\n",
    "\n",
    "# for row in degree:\n",
    "\n",
    "\n"
   ]
  },
  {
   "cell_type": "code",
   "execution_count": null,
   "metadata": {},
   "outputs": [],
   "source": []
  }
 ],
 "metadata": {
  "kernelspec": {
   "display_name": "Python 3",
   "language": "python",
   "name": "python3"
  },
  "language_info": {
   "codemirror_mode": {
    "name": "ipython",
    "version": 3
   },
   "file_extension": ".py",
   "mimetype": "text/x-python",
   "name": "python",
   "nbconvert_exporter": "python",
   "pygments_lexer": "ipython3",
   "version": "3.6.5"
  }
 },
 "nbformat": 4,
 "nbformat_minor": 2
}
