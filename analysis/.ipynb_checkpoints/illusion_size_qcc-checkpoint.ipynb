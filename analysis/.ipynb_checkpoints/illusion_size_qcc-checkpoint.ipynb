{
 "cells": [
  {
   "cell_type": "code",
   "execution_count": 13,
   "metadata": {
    "ExecuteTime": {
     "end_time": "2021-01-08T08:32:40.118736Z",
     "start_time": "2021-01-08T08:32:40.086837Z"
    },
    "scrolled": true
   },
   "outputs": [
    {
     "name": "stdout",
     "output_type": "stream",
     "text": [
      "[[ 12.5 -10.   13.   14.5 -17.  -15.  -15.   17.5  12.5  12.   15.  -17.\n",
      "  -17.   19.5  20.5 -15.  -13.  -11.5 -13.   14. ]\n",
      " [ 15.5 -11.   15.5 -14.  -14.    7.5   6.   -7.   14.5  -6.5   8.5 -12.\n",
      "   15.   15.5 -12.5 -13.5  16.   12.5  -9.5  -6.5]\n",
      " [ -6.  -15.5   9.5   9.    9.5 -10.5  -9.5  13.   20.5 -12.   12.  -13.5\n",
      "  -13.    6.5  11.5 -13.5  10.  -12.5  11.5  -8. ]\n",
      " [-16.  -13.5   5.5 -10.5  11.   18.   19.5 -11.   16.5  13.5  -6.   17.\n",
      "   14.5  -9.5 -16.  -14.   17.   16.  -15.5  -7. ]\n",
      " [-12.   19.  -10.5  13.  -16.  -11.  -14.   13.5 -11.5  17.   16.5 -12.5\n",
      "   13.   13.  -13.   16.5  16.5  -8.5  18.5  -5.5]]\n",
      "[[2 1 2 2 1 1 1 2 2 2 2 1 1 2 2 1 1 1 1 2]\n",
      " [2 1 2 1 1 2 2 1 2 1 2 1 2 2 1 1 2 2 1 1]\n",
      " [1 1 2 2 2 1 1 2 2 1 2 1 1 2 2 1 2 1 2 1]\n",
      " [1 1 2 1 2 2 2 1 2 2 1 2 2 1 1 1 2 2 1 1]\n",
      " [1 2 1 2 1 1 1 2 1 2 2 1 2 2 1 2 2 1 2 1]]\n"
     ]
    }
   ],
   "source": [
    "\n",
    "import scipy.io as scio   # importing the scipy io module for reading the mat file\n",
    "import numpy as np # importing numpy module for efficiently executing numerical\n",
    "import matplotlib.pyplot as plt # import the pyplot from the matplotlib library\n",
    "# from mpl_toolkits.basemap import Basemap # import the basemap to plot the data\n",
    "from matplotlib import rcParams\n",
    "\n",
    "\n",
    "dataFile = '/Users/jia/Documents/matlab/flash-grab/data/illusionSize/ContrastHierarchy/memorized_minor_adjust_contrast/huijiahan_2021_10_26_17_31.mat'\n",
    "\n",
    "alldata = scio.loadmat(dataFile)\n",
    " # print(type(alldata))\n",
    "data = alldata['data'] \n",
    "# print(data.shape)\n",
    "degree = data['wedgeMoveDegreeMat'][0,0]\n",
    "direction = data['flashTiltDirection'][0,0]\n",
    " \n",
    "print(degree)\n",
    "print(direction)\n",
    "\n",
    "# for row in val:\n",
    "\n",
    "\n"
   ]
  },
  {
   "cell_type": "code",
   "execution_count": 14,
   "metadata": {
    "ExecuteTime": {
     "end_time": "2021-01-08T08:58:57.713974Z",
     "start_time": "2021-01-08T08:58:57.708373Z"
    }
   },
   "outputs": [],
   "source": [
    "%matplotlib inline\n",
    "from pylab import *\n",
    "import scipy.io as sio\n",
    "import pandas as pd\n",
    "import seaborn as sns\n",
    "sns.set_context('talk')\n",
    "plt.rc('axes.spines', top=False, right=False)"
   ]
  },
  {
   "cell_type": "code",
   "execution_count": 17,
   "metadata": {
    "ExecuteTime": {
     "end_time": "2021-01-08T08:46:25.306562Z",
     "start_time": "2021-01-08T08:46:25.277940Z"
    }
   },
   "outputs": [
    {
     "name": "stdout",
     "output_type": "stream",
     "text": [
      "(5, 20) (5, 20)\n"
     ]
    }
   ],
   "source": [
    "dataFile = '/Users/jia/Documents/matlab/flash-grab/data/illusionSize/ContrastHierarchy/memorized_minor_adjust_contrast/huijiahan_2021_10_26_17_31.mat'\n",
    "\n",
    "alldata = sio.loadmat(dataFile)\n",
    "data = alldata['data']\n",
    "degree = data['wedgeMoveDegreeMat'][0,0] # 刚读出来的degree是一个嵌套结构，拿出其中第一行第一列的元素，才是我们真正想要的数据\n",
    "direction = data['flashTiltDirection'][0,0]\n",
    "print(degree.shape, direction.shape)"
   ]
  },
  {
   "cell_type": "code",
   "execution_count": 1,
   "metadata": {
    "ExecuteTime": {
     "end_time": "2021-01-08T08:46:43.161294Z",
     "start_time": "2021-01-08T08:46:43.157391Z"
    }
   },
   "outputs": [],
   "source": [
    "# print(degree)\n",
    "# print(direction)"
   ]
  },
  {
   "cell_type": "code",
   "execution_count": 18,
   "metadata": {
    "ExecuteTime": {
     "end_time": "2021-01-08T08:49:15.848370Z",
     "start_time": "2021-01-08T08:49:15.845606Z"
    }
   },
   "outputs": [],
   "source": [
    "contrasts = [0.0600, 0.1200, 0.2400, 0.4800, 0.9600]"
   ]
  },
  {
   "cell_type": "code",
   "execution_count": 21,
   "metadata": {
    "ExecuteTime": {
     "end_time": "2021-01-08T08:53:44.040950Z",
     "start_time": "2021-01-08T08:53:44.036992Z"
    }
   },
   "outputs": [],
   "source": [
    "contrasts = [0.0600, 0.1200, 0.2400, 0.4800, 0.9600]\n",
    "resp = zeros([len(contrasts), 2])\n",
    "for k, c in enumerate(contrasts):\n",
    "    for kd, d in enumerate([1, 2]):\n",
    "        resp[k,kd] = mean(degree[k][direction[k]==d])"
   ]
  },
  {
   "cell_type": "code",
   "execution_count": 22,
   "metadata": {
    "ExecuteTime": {
     "end_time": "2021-01-08T08:53:55.585370Z",
     "start_time": "2021-01-08T08:53:55.581296Z"
    }
   },
   "outputs": [
    {
     "data": {
      "text/plain": [
       "array([[-14.35,  15.1 ],\n",
       "       [-10.65,  12.65],\n",
       "       [-11.4 ,  11.3 ],\n",
       "       [-11.9 ,  14.85],\n",
       "       [-11.45,  15.65]])"
      ]
     },
     "execution_count": 22,
     "metadata": {},
     "output_type": "execute_result"
    }
   ],
   "source": [
    "resp"
   ]
  },
  {
   "cell_type": "markdown",
   "metadata": {},
   "source": [
    "# A even better way"
   ]
  },
  {
   "cell_type": "code",
   "execution_count": 3,
   "metadata": {
    "ExecuteTime": {
     "end_time": "2021-01-08T08:56:56.961895Z",
     "start_time": "2021-01-08T08:56:56.942689Z"
    }
   },
   "outputs": [
    {
     "ename": "NameError",
     "evalue": "name 'pd' is not defined",
     "output_type": "error",
     "traceback": [
      "\u001b[0;31m---------------------------------------------------------------------------\u001b[0m",
      "\u001b[0;31mNameError\u001b[0m                                 Traceback (most recent call last)",
      "\u001b[0;32m<ipython-input-3-a1854c16eae7>\u001b[0m in \u001b[0;36m<module>\u001b[0;34m()\u001b[0m\n\u001b[0;32m----> 1\u001b[0;31m \u001b[0mdf\u001b[0m \u001b[0;34m=\u001b[0m \u001b[0mpd\u001b[0m\u001b[0;34m.\u001b[0m\u001b[0mDataFrame\u001b[0m\u001b[0;34m(\u001b[0m\u001b[0;34m{\u001b[0m\u001b[0;34m'degree'\u001b[0m\u001b[0;34m:\u001b[0m \u001b[0mdegree\u001b[0m\u001b[0;34m.\u001b[0m\u001b[0mflat\u001b[0m\u001b[0;34m,\u001b[0m \u001b[0;34m'direction'\u001b[0m\u001b[0;34m:\u001b[0m \u001b[0mdirection\u001b[0m\u001b[0;34m.\u001b[0m\u001b[0mflat\u001b[0m\u001b[0;34m,\u001b[0m \u001b[0;34m'contrast'\u001b[0m\u001b[0;34m:\u001b[0m \u001b[0mrepeat\u001b[0m\u001b[0;34m(\u001b[0m\u001b[0mcontrasts\u001b[0m\u001b[0;34m,\u001b[0m \u001b[0mdegree\u001b[0m\u001b[0;34m.\u001b[0m\u001b[0mshape\u001b[0m\u001b[0;34m[\u001b[0m\u001b[0;36m1\u001b[0m\u001b[0;34m]\u001b[0m\u001b[0;34m)\u001b[0m\u001b[0;34m}\u001b[0m\u001b[0;34m)\u001b[0m\u001b[0;34m\u001b[0m\u001b[0m\n\u001b[0m\u001b[1;32m      2\u001b[0m \u001b[0mdf\u001b[0m\u001b[0;34m\u001b[0m\u001b[0m\n",
      "\u001b[0;31mNameError\u001b[0m: name 'pd' is not defined"
     ]
    }
   ],
   "source": [
    "df = pd.DataFrame({'degree': degree.flat, 'direction': direction.flat, 'contrast': repeat(contrasts, degree.shape[1])})\n",
    "df"
   ]
  },
  {
   "cell_type": "code",
   "execution_count": 9,
   "metadata": {
    "ExecuteTime": {
     "end_time": "2021-01-08T08:59:24.206631Z",
     "start_time": "2021-01-08T08:59:23.628625Z"
    }
   },
   "outputs": [
    {
     "data": {
      "text/plain": [
       "[None]"
      ]
     },
     "execution_count": 9,
     "metadata": {},
     "output_type": "execute_result"
    },
    {
     "data": {
      "image/png": "[encoded data removed]",
      "text/plain": [
       "<Figure size 432x288 with 1 Axes>"
      ]
     },
     "metadata": {},
     "output_type": "display_data"
    }
   ],
   "source": [
    "sns.barplot(data=df, y='degree', x='contrast', hue='direction')\n",
    "setp(gca().legend_, bbox_to_anchor=[1,1])"
   ]
  },
  {
   "cell_type": "code",
   "execution_count": 10,
   "metadata": {
    "ExecuteTime": {
     "end_time": "2021-01-08T08:59:57.976185Z",
     "start_time": "2021-01-08T08:59:57.420773Z"
    }
   },
   "outputs": [
    {
     "data": {
      "text/plain": [
       "<matplotlib.axes._subplots.AxesSubplot at 0x11a6c1588>"
      ]
     },
     "execution_count": 10,
     "metadata": {},
     "output_type": "execute_result"
    },
    {
     "data": {
      "image/png": "[encoded data removed]",
      "text/plain": [
       "<Figure size 432x288 with 1 Axes>"
      ]
     },
     "metadata": {},
     "output_type": "display_data"
    }
   ],
   "source": [
    "sns.pointplot(data=df, y='degree', x='contrast', hue='direction')"
   ]
  },
  {
   "cell_type": "code",
   "execution_count": null,
   "metadata": {},
   "outputs": [],
   "source": []
  }
 ],
 "metadata": {
  "hide_input": false,
  "kernelspec": {
   "display_name": "Python 3",
   "language": "python",
   "name": "python3"
  },
  "language_info": {
   "codemirror_mode": {
    "name": "ipython",
    "version": 3
   },
   "file_extension": ".py",
   "mimetype": "text/x-python",
   "name": "python",
   "nbconvert_exporter": "python",
   "pygments_lexer": "ipython3",
   "version": "3.6.5"
  },
  "toc": {
   "base_numbering": 1,
   "nav_menu": {},
   "number_sections": true,
   "sideBar": true,
   "skip_h1_title": false,
   "title_cell": "Table of Contents",
   "title_sidebar": "Contents",
   "toc_cell": false,
   "toc_position": {},
   "toc_section_display": true,
   "toc_window_display": false
  },
  "varInspector": {
   "cols": {
    "lenName": 16,
    "lenType": 16,
    "lenVar": 40
   },
   "kernels_config": {
    "python": {
     "delete_cmd_postfix": "",
     "delete_cmd_prefix": "del ",
     "library": "var_list.py",
     "varRefreshCmd": "print(var_dic_list())"
    },
    "r": {
     "delete_cmd_postfix": ") ",
     "delete_cmd_prefix": "rm(",
     "library": "var_list.r",
     "varRefreshCmd": "cat(var_dic_list()) "
    }
   },
   "types_to_exclude": [
    "module",
    "function",
    "builtin_function_or_method",
    "instance",
    "_Feature"
   ],
   "window_display": false
  }
 },
 "nbformat": 4,
 "nbformat_minor": 2
}
