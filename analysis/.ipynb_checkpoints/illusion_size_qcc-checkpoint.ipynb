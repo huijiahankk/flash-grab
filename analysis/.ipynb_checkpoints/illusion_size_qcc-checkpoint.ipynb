{
 "cells": [
  {
   "cell_type": "code",
   "execution_count": 2,
   "metadata": {
    "ExecuteTime": {
     "end_time": "2021-01-08T08:32:40.118736Z",
     "start_time": "2021-01-08T08:32:40.086837Z"
    },
    "scrolled": true
   },
   "outputs": [
    {
     "name": "stdout",
     "output_type": "stream",
     "text": [
      "[[array([[  5.42387859,  -9.24420816,  -6.40538044,  -8.86182583,\n",
      "        -15.57778086,  -8.3760756 ,   4.22000404,  -6.46717005,\n",
      "         14.02996206,   5.13650617],\n",
      "       [ 13.54958415,  22.23801808, -16.78328481,  -7.92230199,\n",
      "        -13.80993129, -14.6911396 ,   8.14759558,   8.30462444,\n",
      "        -10.12243283,   2.57386337],\n",
      "       [  5.20567367,  14.48580131, -14.53356827,  12.27760187,\n",
      "        -15.92857122, -16.51572161, -16.57380673, -17.07242152,\n",
      "         15.07901444,  15.64876908],\n",
      "       [-14.91225222, -17.70475765,  16.66029276,  19.52170335,\n",
      "        -22.1048624 ,  20.02291563,  19.45874153,  18.58668618,\n",
      "        -24.39613812, -20.72485773],\n",
      "       [ 13.03769483, -24.93891378, -18.59009749,  17.39185642,\n",
      "         21.94304917,  14.00400698,  22.15724863, -22.92949213,\n",
      "        -32.66311685, -26.10256685]])]]\n",
      "[[array([[2, 1, 1, 1, 2, 1, 2, 1, 2, 2],\n",
      "       [2, 2, 1, 1, 1, 1, 2, 2, 1, 2],\n",
      "       [2, 2, 1, 2, 1, 1, 1, 1, 2, 2],\n",
      "       [1, 1, 2, 2, 1, 2, 2, 2, 1, 1],\n",
      "       [2, 1, 1, 2, 2, 2, 2, 1, 1, 1]], dtype=uint8)]]\n"
     ]
    }
   ],
   "source": [
    "\n",
    "import scipy.io as scio   # importing the scipy io module for reading the mat file\n",
    "import numpy as np # importing numpy module for efficiently executing numerical\n",
    "import matplotlib.pyplot as plt # import the pyplot from the matplotlib library\n",
    "# from mpl_toolkits.basemap import Basemap # import the basemap to plot the data\n",
    "from matplotlib import rcParams\n",
    "\n",
    "\n",
    "dataFile = 'huijiahan_2021_01_07_17_34.mat'\n",
    "\n",
    "alldata = scio.loadmat(dataFile)\n",
    " # print(type(alldata))\n",
    "data = alldata['data'] \n",
    "# print(data.shape)\n",
    "degree = data['mouseMoveDegreeMat']\n",
    "direction = data['flashTiltDirection']\n",
    " \n",
    "print(degree)\n",
    "print(direction)\n",
    "\n",
    "# for row in val:\n",
    "\n",
    "\n"
   ]
  },
  {
   "cell_type": "code",
   "execution_count": 22,
   "metadata": {
    "ExecuteTime": {
     "end_time": "2021-01-08T08:58:57.713974Z",
     "start_time": "2021-01-08T08:58:57.708373Z"
    }
   },
   "outputs": [],
   "source": [
    "%matplotlib inline\n",
    "from pylab import *\n",
    "import scipy.io as sio\n",
    "import pandas as pd\n",
    "import seaborn as sns\n",
    "sns.set_context('talk')\n",
    "plt.rc('axes.spines', top=False, right=False)"
   ]
  },
  {
   "cell_type": "code",
   "execution_count": 4,
   "metadata": {
    "ExecuteTime": {
     "end_time": "2021-01-08T08:46:25.306562Z",
     "start_time": "2021-01-08T08:46:25.277940Z"
    }
   },
   "outputs": [
    {
     "name": "stdout",
     "output_type": "stream",
     "text": [
      "(5, 10) (5, 10)\n"
     ]
    }
   ],
   "source": [
    "dataFile = 'huijiahan_2021_01_07_17_34.mat'\n",
    "alldata = sio.loadmat(dataFile)\n",
    "data = alldata['data']\n",
    "degree = data['mouseMoveDegreeMat'][0,0] # 刚读出来的degree是一个嵌套结构，拿出其中第一行第一列的元素，才是我们真正想要的数据\n",
    "direction = data['flashTiltDirection'][0,0]\n",
    "print(degree.shape, direction.shape)"
   ]
  },
  {
   "cell_type": "code",
   "execution_count": 6,
   "metadata": {
    "ExecuteTime": {
     "end_time": "2021-01-08T08:46:43.161294Z",
     "start_time": "2021-01-08T08:46:43.157391Z"
    }
   },
   "outputs": [
    {
     "name": "stdout",
     "output_type": "stream",
     "text": [
      "[[  5.42387859  -9.24420816  -6.40538044  -8.86182583 -15.57778086\n",
      "   -8.3760756    4.22000404  -6.46717005  14.02996206   5.13650617]\n",
      " [ 13.54958415  22.23801808 -16.78328481  -7.92230199 -13.80993129\n",
      "  -14.6911396    8.14759558   8.30462444 -10.12243283   2.57386337]\n",
      " [  5.20567367  14.48580131 -14.53356827  12.27760187 -15.92857122\n",
      "  -16.51572161 -16.57380673 -17.07242152  15.07901444  15.64876908]\n",
      " [-14.91225222 -17.70475765  16.66029276  19.52170335 -22.1048624\n",
      "   20.02291563  19.45874153  18.58668618 -24.39613812 -20.72485773]\n",
      " [ 13.03769483 -24.93891378 -18.59009749  17.39185642  21.94304917\n",
      "   14.00400698  22.15724863 -22.92949213 -32.66311685 -26.10256685]]\n"
     ]
    }
   ],
   "source": [
    "print(degree)"
   ]
  },
  {
   "cell_type": "code",
   "execution_count": 5,
   "metadata": {
    "ExecuteTime": {
     "end_time": "2021-01-08T08:46:35.993517Z",
     "start_time": "2021-01-08T08:46:35.990193Z"
    }
   },
   "outputs": [
    {
     "name": "stdout",
     "output_type": "stream",
     "text": [
      "[[2 1 1 1 2 1 2 1 2 2]\n",
      " [2 2 1 1 1 1 2 2 1 2]\n",
      " [2 2 1 2 1 1 1 1 2 2]\n",
      " [1 1 2 2 1 2 2 2 1 1]\n",
      " [2 1 1 2 2 2 2 1 1 1]]\n"
     ]
    }
   ],
   "source": [
    "print(direction)"
   ]
  },
  {
   "cell_type": "code",
   "execution_count": 8,
   "metadata": {
    "ExecuteTime": {
     "end_time": "2021-01-08T08:49:15.848370Z",
     "start_time": "2021-01-08T08:49:15.845606Z"
    }
   },
   "outputs": [],
   "source": [
    "contrasts = [0.0600, 0.1200, 0.2400, 0.4800, 0.9600]"
   ]
  },
  {
   "cell_type": "code",
   "execution_count": 12,
   "metadata": {
    "ExecuteTime": {
     "end_time": "2021-01-08T08:53:44.040950Z",
     "start_time": "2021-01-08T08:53:44.036992Z"
    }
   },
   "outputs": [],
   "source": [
    "resp = zeros([len(contrasts), 2])\n",
    "for k, c in enumerate(contrasts):\n",
    "    for kd, d in enumerate([1, 2]):\n",
    "        resp[k,kd] = mean(degree[k][direction[k]==d])"
   ]
  },
  {
   "cell_type": "code",
   "execution_count": 13,
   "metadata": {
    "ExecuteTime": {
     "end_time": "2021-01-08T08:53:55.585370Z",
     "start_time": "2021-01-08T08:53:55.581296Z"
    }
   },
   "outputs": [
    {
     "data": {
      "text/plain": [
       "array([[ -7.87093202,   2.646514  ],\n",
       "       [-12.6658181 ,  10.96273712],\n",
       "       [-16.12481787,  12.53937207],\n",
       "       [-19.96857362,  18.85006789],\n",
       "       [-25.04483742,  17.7067712 ]])"
      ]
     },
     "execution_count": 13,
     "metadata": {},
     "output_type": "execute_result"
    }
   ],
   "source": [
    "resp"
   ]
  },
  {
   "cell_type": "markdown",
   "metadata": {},
   "source": [
    "# A even better way"
   ]
  },
  {
   "cell_type": "code",
   "execution_count": 16,
   "metadata": {
    "ExecuteTime": {
     "end_time": "2021-01-08T08:56:56.961895Z",
     "start_time": "2021-01-08T08:56:56.942689Z"
    }
   },
   "outputs": [
    {
     "data": {
      "text/html": [
       "<div>\n",
       "<style scoped>\n",
       "    .dataframe tbody tr th:only-of-type {\n",
       "        vertical-align: middle;\n",
       "    }\n",
       "\n",
       "    .dataframe tbody tr th {\n",
       "        vertical-align: top;\n",
       "    }\n",
       "\n",
       "    .dataframe thead th {\n",
       "        text-align: right;\n",
       "    }\n",
       "</style>\n",
       "<table border=\"1\" class=\"dataframe\">\n",
       "  <thead>\n",
       "    <tr style=\"text-align: right;\">\n",
       "      <th></th>\n",
       "      <th>degree</th>\n",
       "      <th>direction</th>\n",
       "      <th>contrast</th>\n",
       "    </tr>\n",
       "  </thead>\n",
       "  <tbody>\n",
       "    <tr>\n",
       "      <th>0</th>\n",
       "      <td>5.423879</td>\n",
       "      <td>2</td>\n",
       "      <td>0.06</td>\n",
       "    </tr>\n",
       "    <tr>\n",
       "      <th>1</th>\n",
       "      <td>-9.244208</td>\n",
       "      <td>1</td>\n",
       "      <td>0.06</td>\n",
       "    </tr>\n",
       "    <tr>\n",
       "      <th>2</th>\n",
       "      <td>-6.405380</td>\n",
       "      <td>1</td>\n",
       "      <td>0.06</td>\n",
       "    </tr>\n",
       "    <tr>\n",
       "      <th>3</th>\n",
       "      <td>-8.861826</td>\n",
       "      <td>1</td>\n",
       "      <td>0.06</td>\n",
       "    </tr>\n",
       "    <tr>\n",
       "      <th>4</th>\n",
       "      <td>-15.577781</td>\n",
       "      <td>2</td>\n",
       "      <td>0.06</td>\n",
       "    </tr>\n",
       "    <tr>\n",
       "      <th>5</th>\n",
       "      <td>-8.376076</td>\n",
       "      <td>1</td>\n",
       "      <td>0.06</td>\n",
       "    </tr>\n",
       "    <tr>\n",
       "      <th>6</th>\n",
       "      <td>4.220004</td>\n",
       "      <td>2</td>\n",
       "      <td>0.06</td>\n",
       "    </tr>\n",
       "    <tr>\n",
       "      <th>7</th>\n",
       "      <td>-6.467170</td>\n",
       "      <td>1</td>\n",
       "      <td>0.06</td>\n",
       "    </tr>\n",
       "    <tr>\n",
       "      <th>8</th>\n",
       "      <td>14.029962</td>\n",
       "      <td>2</td>\n",
       "      <td>0.06</td>\n",
       "    </tr>\n",
       "    <tr>\n",
       "      <th>9</th>\n",
       "      <td>5.136506</td>\n",
       "      <td>2</td>\n",
       "      <td>0.06</td>\n",
       "    </tr>\n",
       "    <tr>\n",
       "      <th>10</th>\n",
       "      <td>13.549584</td>\n",
       "      <td>2</td>\n",
       "      <td>0.12</td>\n",
       "    </tr>\n",
       "    <tr>\n",
       "      <th>11</th>\n",
       "      <td>22.238018</td>\n",
       "      <td>2</td>\n",
       "      <td>0.12</td>\n",
       "    </tr>\n",
       "    <tr>\n",
       "      <th>12</th>\n",
       "      <td>-16.783285</td>\n",
       "      <td>1</td>\n",
       "      <td>0.12</td>\n",
       "    </tr>\n",
       "    <tr>\n",
       "      <th>13</th>\n",
       "      <td>-7.922302</td>\n",
       "      <td>1</td>\n",
       "      <td>0.12</td>\n",
       "    </tr>\n",
       "    <tr>\n",
       "      <th>14</th>\n",
       "      <td>-13.809931</td>\n",
       "      <td>1</td>\n",
       "      <td>0.12</td>\n",
       "    </tr>\n",
       "    <tr>\n",
       "      <th>15</th>\n",
       "      <td>-14.691140</td>\n",
       "      <td>1</td>\n",
       "      <td>0.12</td>\n",
       "    </tr>\n",
       "    <tr>\n",
       "      <th>16</th>\n",
       "      <td>8.147596</td>\n",
       "      <td>2</td>\n",
       "      <td>0.12</td>\n",
       "    </tr>\n",
       "    <tr>\n",
       "      <th>17</th>\n",
       "      <td>8.304624</td>\n",
       "      <td>2</td>\n",
       "      <td>0.12</td>\n",
       "    </tr>\n",
       "    <tr>\n",
       "      <th>18</th>\n",
       "      <td>-10.122433</td>\n",
       "      <td>1</td>\n",
       "      <td>0.12</td>\n",
       "    </tr>\n",
       "    <tr>\n",
       "      <th>19</th>\n",
       "      <td>2.573863</td>\n",
       "      <td>2</td>\n",
       "      <td>0.12</td>\n",
       "    </tr>\n",
       "    <tr>\n",
       "      <th>20</th>\n",
       "      <td>5.205674</td>\n",
       "      <td>2</td>\n",
       "      <td>0.24</td>\n",
       "    </tr>\n",
       "    <tr>\n",
       "      <th>21</th>\n",
       "      <td>14.485801</td>\n",
       "      <td>2</td>\n",
       "      <td>0.24</td>\n",
       "    </tr>\n",
       "    <tr>\n",
       "      <th>22</th>\n",
       "      <td>-14.533568</td>\n",
       "      <td>1</td>\n",
       "      <td>0.24</td>\n",
       "    </tr>\n",
       "    <tr>\n",
       "      <th>23</th>\n",
       "      <td>12.277602</td>\n",
       "      <td>2</td>\n",
       "      <td>0.24</td>\n",
       "    </tr>\n",
       "    <tr>\n",
       "      <th>24</th>\n",
       "      <td>-15.928571</td>\n",
       "      <td>1</td>\n",
       "      <td>0.24</td>\n",
       "    </tr>\n",
       "    <tr>\n",
       "      <th>25</th>\n",
       "      <td>-16.515722</td>\n",
       "      <td>1</td>\n",
       "      <td>0.24</td>\n",
       "    </tr>\n",
       "    <tr>\n",
       "      <th>26</th>\n",
       "      <td>-16.573807</td>\n",
       "      <td>1</td>\n",
       "      <td>0.24</td>\n",
       "    </tr>\n",
       "    <tr>\n",
       "      <th>27</th>\n",
       "      <td>-17.072422</td>\n",
       "      <td>1</td>\n",
       "      <td>0.24</td>\n",
       "    </tr>\n",
       "    <tr>\n",
       "      <th>28</th>\n",
       "      <td>15.079014</td>\n",
       "      <td>2</td>\n",
       "      <td>0.24</td>\n",
       "    </tr>\n",
       "    <tr>\n",
       "      <th>29</th>\n",
       "      <td>15.648769</td>\n",
       "      <td>2</td>\n",
       "      <td>0.24</td>\n",
       "    </tr>\n",
       "    <tr>\n",
       "      <th>30</th>\n",
       "      <td>-14.912252</td>\n",
       "      <td>1</td>\n",
       "      <td>0.48</td>\n",
       "    </tr>\n",
       "    <tr>\n",
       "      <th>31</th>\n",
       "      <td>-17.704758</td>\n",
       "      <td>1</td>\n",
       "      <td>0.48</td>\n",
       "    </tr>\n",
       "    <tr>\n",
       "      <th>32</th>\n",
       "      <td>16.660293</td>\n",
       "      <td>2</td>\n",
       "      <td>0.48</td>\n",
       "    </tr>\n",
       "    <tr>\n",
       "      <th>33</th>\n",
       "      <td>19.521703</td>\n",
       "      <td>2</td>\n",
       "      <td>0.48</td>\n",
       "    </tr>\n",
       "    <tr>\n",
       "      <th>34</th>\n",
       "      <td>-22.104862</td>\n",
       "      <td>1</td>\n",
       "      <td>0.48</td>\n",
       "    </tr>\n",
       "    <tr>\n",
       "      <th>35</th>\n",
       "      <td>20.022916</td>\n",
       "      <td>2</td>\n",
       "      <td>0.48</td>\n",
       "    </tr>\n",
       "    <tr>\n",
       "      <th>36</th>\n",
       "      <td>19.458742</td>\n",
       "      <td>2</td>\n",
       "      <td>0.48</td>\n",
       "    </tr>\n",
       "    <tr>\n",
       "      <th>37</th>\n",
       "      <td>18.586686</td>\n",
       "      <td>2</td>\n",
       "      <td>0.48</td>\n",
       "    </tr>\n",
       "    <tr>\n",
       "      <th>38</th>\n",
       "      <td>-24.396138</td>\n",
       "      <td>1</td>\n",
       "      <td>0.48</td>\n",
       "    </tr>\n",
       "    <tr>\n",
       "      <th>39</th>\n",
       "      <td>-20.724858</td>\n",
       "      <td>1</td>\n",
       "      <td>0.48</td>\n",
       "    </tr>\n",
       "    <tr>\n",
       "      <th>40</th>\n",
       "      <td>13.037695</td>\n",
       "      <td>2</td>\n",
       "      <td>0.96</td>\n",
       "    </tr>\n",
       "    <tr>\n",
       "      <th>41</th>\n",
       "      <td>-24.938914</td>\n",
       "      <td>1</td>\n",
       "      <td>0.96</td>\n",
       "    </tr>\n",
       "    <tr>\n",
       "      <th>42</th>\n",
       "      <td>-18.590097</td>\n",
       "      <td>1</td>\n",
       "      <td>0.96</td>\n",
       "    </tr>\n",
       "    <tr>\n",
       "      <th>43</th>\n",
       "      <td>17.391856</td>\n",
       "      <td>2</td>\n",
       "      <td>0.96</td>\n",
       "    </tr>\n",
       "    <tr>\n",
       "      <th>44</th>\n",
       "      <td>21.943049</td>\n",
       "      <td>2</td>\n",
       "      <td>0.96</td>\n",
       "    </tr>\n",
       "    <tr>\n",
       "      <th>45</th>\n",
       "      <td>14.004007</td>\n",
       "      <td>2</td>\n",
       "      <td>0.96</td>\n",
       "    </tr>\n",
       "    <tr>\n",
       "      <th>46</th>\n",
       "      <td>22.157249</td>\n",
       "      <td>2</td>\n",
       "      <td>0.96</td>\n",
       "    </tr>\n",
       "    <tr>\n",
       "      <th>47</th>\n",
       "      <td>-22.929492</td>\n",
       "      <td>1</td>\n",
       "      <td>0.96</td>\n",
       "    </tr>\n",
       "    <tr>\n",
       "      <th>48</th>\n",
       "      <td>-32.663117</td>\n",
       "      <td>1</td>\n",
       "      <td>0.96</td>\n",
       "    </tr>\n",
       "    <tr>\n",
       "      <th>49</th>\n",
       "      <td>-26.102567</td>\n",
       "      <td>1</td>\n",
       "      <td>0.96</td>\n",
       "    </tr>\n",
       "  </tbody>\n",
       "</table>\n",
       "</div>"
      ],
      "text/plain": [
       "       degree  direction  contrast\n",
       "0    5.423879          2      0.06\n",
       "1   -9.244208          1      0.06\n",
       "2   -6.405380          1      0.06\n",
       "3   -8.861826          1      0.06\n",
       "4  -15.577781          2      0.06\n",
       "5   -8.376076          1      0.06\n",
       "6    4.220004          2      0.06\n",
       "7   -6.467170          1      0.06\n",
       "8   14.029962          2      0.06\n",
       "9    5.136506          2      0.06\n",
       "10  13.549584          2      0.12\n",
       "11  22.238018          2      0.12\n",
       "12 -16.783285          1      0.12\n",
       "13  -7.922302          1      0.12\n",
       "14 -13.809931          1      0.12\n",
       "15 -14.691140          1      0.12\n",
       "16   8.147596          2      0.12\n",
       "17   8.304624          2      0.12\n",
       "18 -10.122433          1      0.12\n",
       "19   2.573863          2      0.12\n",
       "20   5.205674          2      0.24\n",
       "21  14.485801          2      0.24\n",
       "22 -14.533568          1      0.24\n",
       "23  12.277602          2      0.24\n",
       "24 -15.928571          1      0.24\n",
       "25 -16.515722          1      0.24\n",
       "26 -16.573807          1      0.24\n",
       "27 -17.072422          1      0.24\n",
       "28  15.079014          2      0.24\n",
       "29  15.648769          2      0.24\n",
       "30 -14.912252          1      0.48\n",
       "31 -17.704758          1      0.48\n",
       "32  16.660293          2      0.48\n",
       "33  19.521703          2      0.48\n",
       "34 -22.104862          1      0.48\n",
       "35  20.022916          2      0.48\n",
       "36  19.458742          2      0.48\n",
       "37  18.586686          2      0.48\n",
       "38 -24.396138          1      0.48\n",
       "39 -20.724858          1      0.48\n",
       "40  13.037695          2      0.96\n",
       "41 -24.938914          1      0.96\n",
       "42 -18.590097          1      0.96\n",
       "43  17.391856          2      0.96\n",
       "44  21.943049          2      0.96\n",
       "45  14.004007          2      0.96\n",
       "46  22.157249          2      0.96\n",
       "47 -22.929492          1      0.96\n",
       "48 -32.663117          1      0.96\n",
       "49 -26.102567          1      0.96"
      ]
     },
     "execution_count": 16,
     "metadata": {},
     "output_type": "execute_result"
    }
   ],
   "source": [
    "df = pd.DataFrame({'degree': degree.flat, 'direction': direction.flat, 'contrast': repeat(contrasts, degree.shape[1])})\n",
    "df"
   ]
  },
  {
   "cell_type": "code",
   "execution_count": 24,
   "metadata": {
    "ExecuteTime": {
     "end_time": "2021-01-08T08:59:24.206631Z",
     "start_time": "2021-01-08T08:59:23.628625Z"
    }
   },
   "outputs": [
    {
     "data": {
      "text/plain": [
       "[None]"
      ]
     },
     "execution_count": 24,
     "metadata": {},
     "output_type": "execute_result"
    },
    {
     "data": {
      "image/png": "[encoded data removed]",
      "text/plain": [
       "<Figure size 432x288 with 1 Axes>"
      ]
     },
     "metadata": {
      "needs_background": "light"
     },
     "output_type": "display_data"
    }
   ],
   "source": [
    "sns.barplot(data=df, y='degree', x='contrast', hue='direction')\n",
    "setp(gca().legend_, bbox_to_anchor=[1,1])"
   ]
  },
  {
   "cell_type": "code",
   "execution_count": 27,
   "metadata": {
    "ExecuteTime": {
     "end_time": "2021-01-08T08:59:57.976185Z",
     "start_time": "2021-01-08T08:59:57.420773Z"
    }
   },
   "outputs": [
    {
     "data": {
      "text/plain": [
       "<matplotlib.axes._subplots.AxesSubplot at 0x120e4e400>"
      ]
     },
     "execution_count": 27,
     "metadata": {},
     "output_type": "execute_result"
    },
    {
     "data": {
      "image/png": "[encoded data removed]",
      "text/plain": [
       "<Figure size 432x288 with 1 Axes>"
      ]
     },
     "metadata": {
      "needs_background": "light"
     },
     "output_type": "display_data"
    }
   ],
   "source": [
    "sns.pointplot(data=df, y='degree', x='contrast', hue='direction')"
   ]
  },
  {
   "cell_type": "code",
   "execution_count": null,
   "metadata": {},
   "outputs": [],
   "source": []
  }
 ],
 "metadata": {
  "hide_input": false,
  "kernelspec": {
   "display_name": "Python 3",
   "language": "python",
   "name": "python3"
  },
  "language_info": {
   "codemirror_mode": {
    "name": "ipython",
    "version": 3
   },
   "file_extension": ".py",
   "mimetype": "text/x-python",
   "name": "python",
   "nbconvert_exporter": "python",
   "pygments_lexer": "ipython3",
   "version": "3.6.5"
  },
  "toc": {
   "base_numbering": 1,
   "nav_menu": {},
   "number_sections": true,
   "sideBar": true,
   "skip_h1_title": false,
   "title_cell": "Table of Contents",
   "title_sidebar": "Contents",
   "toc_cell": false,
   "toc_position": {},
   "toc_section_display": true,
   "toc_window_display": false
  },
  "varInspector": {
   "cols": {
    "lenName": 16,
    "lenType": 16,
    "lenVar": 40
   },
   "kernels_config": {
    "python": {
     "delete_cmd_postfix": "",
     "delete_cmd_prefix": "del ",
     "library": "var_list.py",
     "varRefreshCmd": "print(var_dic_list())"
    },
    "r": {
     "delete_cmd_postfix": ") ",
     "delete_cmd_prefix": "rm(",
     "library": "var_list.r",
     "varRefreshCmd": "cat(var_dic_list()) "
    }
   },
   "types_to_exclude": [
    "module",
    "function",
    "builtin_function_or_method",
    "instance",
    "_Feature"
   ],
   "window_display": false
  }
 },
 "nbformat": 4,
 "nbformat_minor": 2
}
